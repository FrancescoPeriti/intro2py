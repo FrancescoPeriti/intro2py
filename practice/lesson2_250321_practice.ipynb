{
 "cells": [
  {
   "cell_type": "markdown",
   "id": "neutral-learning",
   "metadata": {},
   "source": [
    "# 1- Return the Next Number from the Integer Passed\n",
    "Create a function that takes a number as an argument, increments the number by +1 and returns the result.\n",
    "\n",
    "<code style=\"background-color:#f2f2f2;\">addition(0) ➞ 1</code> "
   ]
  },
  {
   "cell_type": "markdown",
   "id": "regulation-primary",
   "metadata": {},
   "source": [
    "# 2- Monkey Trouble\n",
    "We have two monkeys, a and b, and the parameters a_smile and b_smile indicate if each is smiling. We are in trouble if they are both smiling or if neither of them is smiling. Return True if we are in trouble.\n",
    "\n",
    "<code style=\"background-color:#f2f2f2;\">monkey_trouble(True, True) → True\n",
    "monkey_trouble(False, False) → True\n",
    "monkey_trouble(True, False) → False</code>"
   ]
  },
  {
   "cell_type": "markdown",
   "id": "brutal-suffering",
   "metadata": {},
   "source": [
    "# 3- Sum double\n",
    "Given two int values, return their sum. Unless the two values are the same, then return double their sum.\n",
    "\n",
    "\n",
    "<code style=\"background-color:#f2f2f2;\">sum_double(1, 2) → 3\n",
    "sum_double(3, 2) → 5\n",
    "sum_double(2, 2) → 8</code>"
   ]
  },
  {
   "cell_type": "markdown",
   "id": "august-camera",
   "metadata": {},
   "source": [
    "# 4- Makes10\n",
    "Given 2 ints, a and b, return True if one if them is 10 or if their sum is 10.\n",
    "\n",
    "\n",
    "<code style=\"background-color:#f2f2f2;\">makes10(9, 10) → True\n",
    "makes10(9, 9) → False\n",
    "makes10(1, 9) → True</code>"
   ]
  },
  {
   "cell_type": "markdown",
   "id": "closed-dining",
   "metadata": {},
   "source": [
    "# 5- Missing char\n",
    "Given a non-empty string and an int n, return a new string where the char at index n has been removed. The value of n will be a valid index of a char in the original string (i.e. n will be in the range 0..len(str)-1 inclusive).\n",
    "\n",
    "\n",
    "<code style=\"background-color:#f2f2f2;\">missing_char('kitten', 1) → 'ktten'\n",
    "missing_char('kitten', 0) → 'itten'\n",
    "missing_char('kitten', 4) → 'kittn'</code>"
   ]
  },
  {
   "cell_type": "markdown",
   "id": "serial-advancement",
   "metadata": {},
   "source": [
    "# 6- Not String\n",
    "Given a string, return a new string where \"not \" has been added to the front. However, if the string already begins with \"not\", return the string unchanged.\n",
    "\n",
    "<code style=\"background-color:#f2f2f2;\">not_string('candy') → 'not candy'\n",
    "not_string('x') → 'not x'\n",
    "not_string('not bad') → 'not bad'</code>"
   ]
  },
  {
   "cell_type": "markdown",
   "id": "stuffed-statistics",
   "metadata": {},
   "source": [
    "# 7- Front Back\n",
    "Given a string, return a new string where the first and last chars have been exchanged.\n",
    "\n",
    "\n",
    "<code style=\"background-color:#f2f2f2;\">front_back('code') → 'eodc'\n",
    "front_back('a') → 'a'\n",
    "front_back('ab') → 'ba'</code>"
   ]
  },
  {
   "cell_type": "markdown",
   "id": "atlantic-borough",
   "metadata": {},
   "source": [
    "# 8- Front3\n",
    "Given a string, we'll say that the front is the first 3 chars of the string. If the string length is less than 3, the front is whatever is there. Return a new string which is 3 copies of the front.\n",
    "\n",
    "<code style=\"background-color:#f2f2f2;\">front3('Java') → 'JavJavJav'\n",
    "front3('Chocolate') → 'ChoChoCho'\n",
    "front3('abc') → 'abcabcabc'</code>"
   ]
  },
  {
   "cell_type": "markdown",
   "id": "annual-warren",
   "metadata": {},
   "source": [
    "# 9- The Snake — Area Filling\n",
    "In this version of the game, the length of the snake doubles each time it eats food (e.g. if the length is 4, after eating it becomes 8).\n",
    "\n",
    "Create a function that takes the side n of the game screen and returns the number of times the snake can eat before it runs out of space in the game screen.\n",
    "<code style=\"background-color:#f2f2f2;\">snakefill(3) ➞ 3\n",
    "snakefill(6) ➞ 5\n",
    "snakefill(24) ➞ 9</code>"
   ]
  },
  {
   "cell_type": "markdown",
   "id": "manual-jumping",
   "metadata": {},
   "source": [
    "# 10- diff21\n",
    "Given an int n, return the absolute difference between n and 21, except return double the absolute difference if n is over 21.\n",
    "\n",
    "<code style=\"background-color:#f2f2f2;\">diff21(19) → 2\n",
    "diff21(21) → 0\n",
    "diff21(23) → 4</code>"
   ]
  },
  {
   "cell_type": "markdown",
   "id": "creative-parallel",
   "metadata": {},
   "source": [
    "# 11- The Farm Problem\n",
    "In this challenge, a farmer is asking you to tell him how many legs can be counted among all his animals. The farmer breeds three species:\n",
    "<ul>\n",
    "    <li>chickens = 2 legs</li>\n",
    "    <li>cows = 4 legs</li>\n",
    "    <li>pigs = 4 legs</li>\n",
    "</ul>\n",
    "\n",
    "The farmer has counted his animals and he gives you a subtotal for each species. You have to implement a function that returns the total number of legs of all the animals.\n",
    "\n",
    "<code style=\"background-color:#f2f2f2;\">animals(chickens=2, cows=3, pigs=5) ➞ 36</code>"
   ]
  },
  {
   "cell_type": "markdown",
   "id": "mounted-reception",
   "metadata": {},
   "source": [
    "# 12- Invert Keys and Values\n",
    "Write a function that inverts the keys and values of a dictionary. Get each key-value pair of a dict and use a dictionary comprehension to invert each key-value pair. \n",
    "\n",
    "Warning: each key in a dictionary is unique and hashable\n",
    "\n",
    "<code style=\"background-color:#f2f2f2;\">reverse({'sweet':1, 'child':2, \"o'mine\":2}) ➞ {1:'sweet', 2:\"o'mine\"}</code>"
   ]
  },
  {
   "cell_type": "markdown",
   "id": "cooperative-finance",
   "metadata": {},
   "source": [
    "# 13- Is the string palindrome?\n",
    "Given a string, write a python function to check if it is palindrome or not. A string is said to be palindrome if the reverse of the string is the same as string.\n",
    "\n",
    "Warning: ignore whitespaces.\n",
    "\n",
    "<code style=\"background-color:#f2f2f2;\">is_palindrome('parlo col rap') ➞ True</code>\n",
    "\n",
    "<code style=\"background-color:#f2f2f2;\">is_palindrome('is this string palindrome?') ➞ False</code>"
   ]
  },
  {
   "cell_type": "markdown",
   "id": "seasonal-patrick",
   "metadata": {},
   "source": [
    "# 14- Count Palindrome Numbers in a Range\n",
    "Create a function that returns the list of palindrome numbers in a specified range.\n",
    "\n",
    "For example, between 8 and 34, there are 5 palindromes: 8, 9, 11, 22 and 33. Between 1550 and 1552 there is exactly one palindrome: 1551.\n",
    "\n",
    "hint: you can use your 'is_palindrome' function. Single-digit numbers are trivially palindrome numbers.\n",
    "\n",
    "\n",
    "<code style=\"background-color:#f2f2f2;\">count_palindromes(from_=100, to_=200) ➞ [101, 111, 121, 131, 141, 151, 161, 171, 181, 191]</code>"
   ]
  },
  {
   "cell_type": "markdown",
   "id": "acknowledged-porter",
   "metadata": {},
   "source": [
    "# 15- Encode Morse\n",
    "Create a function that takes a string as an argument and returns the Morse code equivalent.\n",
    "\n",
    "<code style=\"background-color:#f2f2f2;\">encode_morse(\"HELP ME !\") ➞ \".... . .-.. .--.   -- .   -.-.--\"</code>\n",
    "\n",
    "This dictionary can be used for coding:"
   ]
  },
  {
   "cell_type": "code",
   "execution_count": 32,
   "id": "professional-reasoning",
   "metadata": {},
   "outputs": [],
   "source": [
    "char_to_dots = {\n",
    "  'A': '.-', 'B': '-...', 'C': '-.-.', 'D': '-..', 'E': '.', 'F': '..-.',\n",
    "  'G': '--.', 'H': '....', 'I': '..', 'J': '.---', 'K': '-.-', 'L': '.-..',\n",
    "  'M': '--', 'N': '-.', 'O': '---', 'P': '.--.', 'Q': '--.-', 'R': '.-.',\n",
    "  'S': '...', 'T': '-', 'U': '..-', 'V': '...-', 'W': '.--', 'X': '-..-',\n",
    "  'Y': '-.--', 'Z': '--..', ' ': ' ', '0': '-----',\n",
    "  '1': '.----', '2': '..---', '3': '...--', '4': '....-', '5': '.....',\n",
    "  '6': '-....', '7': '--...', '8': '---..', '9': '----.',\n",
    "  '&': '.-...', \"'\": '.----.', '@': '.--.-.', ')': '-.--.-', '(': '-.--.',\n",
    "  ':': '---...', ',': '--..--', '=': '-...-', '!': '-.-.--', '.': '.-.-.-',\n",
    "  '-': '-....-', '+': '.-.-.', '\"': '.-..-.', '?': '..--..', '/': '-..-.'\n",
    "}"
   ]
  },
  {
   "cell_type": "markdown",
   "id": "approximate-graham",
   "metadata": {},
   "source": [
    "# 16- Pascal's Triangle\n",
    "In mathematics, Pascal's triangle is a triangular array of the binomial coefficients that arises in probability theory, combinatorics, and algebra.\n",
    "\n",
    "Create a function which takes a number n and returns n top rows of Pascal's Triangle flattened into a one-dimensional list.\n",
    "\n",
    "<code style=\"background-color:#f2f2f2;\">pascals_triangle(5) ➞ \n",
    "[1]     \n",
    "[1, 1]\n",
    "[1, 2, 1]\n",
    "[1, 3, 3, 1]\n",
    "[1, 4, 6, 4, 1]\n",
    "</code>\n",
    "\n",
    "Formula for Pascal's triangle is given by:\n",
    "$\\frac{n!}{k!(n-k)!}$\n",
    "where n denotes a row of the triangle, and k is the position of a term in the row.\n",
    "\n",
    "hint: create a factorial function\n",
    "<code style=\"background-color:#f2f2f2;\">factorial(5) ➞ 120</code>"
   ]
  },
  {
   "cell_type": "markdown",
   "id": "exact-delay",
   "metadata": {},
   "source": [
    "# 17- Making a Box\n",
    "Create a function that creates a box based on dimension n.\n",
    "\n",
    "<code style=\"background-color:#f2f2f2;\">make_box(5) ➞ \n",
    "  \\#####\n",
    "  \\#   #\n",
    "  \\#   #\n",
    "  \\#   #\n",
    "  \\#####</code>"
   ]
  },
  {
   "cell_type": "markdown",
   "id": "declared-crime",
   "metadata": {},
   "source": [
    "# 18- Words With Duplicate Letters\n",
    "Given a common phrase, return False if any individual word in the phrase contains duplicate letters. Return True otherwise.\n",
    "\n",
    "<code style=\"background-color:#f2f2f2;\">\n",
    "no_duplicate_letters(\"Fortune favours the bold.\") ➞ True\n",
    "no_duplicate_letters(\"You can lead a horse to water, but you can't make him drink.\") ➞ True\n",
    "no_duplicate_letters(\"Look before you leap.\") ➞ False\n",
    "- Duplicate letters in \"Look\" and \"before\".\n",
    "no_duplicate_letters(\"An apple a day keeps the doctor away.\") ➞ False\n",
    "- Duplicate letters in \"apple\", \"keeps\", \"doctor\", and \"away\".</code>"
   ]
  },
  {
   "cell_type": "markdown",
   "id": "competitive-invasion",
   "metadata": {},
   "source": [
    "# 19- Concert Seats\n",
    "Create a function that determines whether each seat can \"see\" the front-stage. A number can \"see\" the front-stage if it is strictly greater than the number before it.\n",
    "\n",
    "Everyone can see the front-stage in the example below:\n",
    "\n",
    "<code style=\"background-color:#f2f2f2;\">\n",
    "# FRONT STAGE\n",
    "[[1, 2, 3, 2, 1, 1],\n",
    "[2, 4, 4, 3, 2, 2],\n",
    "[5, 5, 5, 5, 4, 4],\n",
    "[6, 6, 7, 6, 5, 5]]\n",
    "\n",
    "\\# Starting from the left, the 6 > 5 > 2 > 1, so all numbers can see.\n",
    "\\# 6 > 5 > 4 > 2 - so all numbers can see, etc.    \n",
    "</code>\n",
    "\n",
    "Not everyone can see the front-stage in the example below:\n",
    "<code style=\"background-color:#f2f2f2;\">\n",
    "\\# FRONT STAGE\n",
    "[[1, 2, 3, 2, 1, 1], \n",
    "[2, 4, 4, 3, 2, 2], \n",
    "[5, 5, 5, 10, 4, 4], \n",
    "[6, 6, 7, 6, 5, 5]]\n",
    "\n",
    "\\# The 10 is directly in front of the 6 and blocking its view.\n",
    "</code>\n",
    "\n",
    "The function should return True if every number can see the front-stage, and False if even a single number cannot."
   ]
  },
  {
   "cell_type": "code",
   "execution_count": null,
   "id": "stretch-firewall",
   "metadata": {},
   "outputs": [],
   "source": [
    "can_see_stage([\n",
    "  [1, 2, 3],\n",
    "  [4, 5, 6],\n",
    "  [7, 8, 9]\n",
    "]) # True\n",
    "\n",
    "can_see_stage([\n",
    "  [0, 0, 0],\n",
    "  [1, 1, 1],\n",
    "  [2, 2, 2]\n",
    "]) # True\n",
    "\n",
    "can_see_stage([\n",
    "  [2, 0, 0], \n",
    "  [1, 1, 1], \n",
    "  [2, 2, 2]\n",
    "]) # False\n",
    "\n",
    "can_see_stage([\n",
    "  [1, 0, 0],\n",
    "  [1, 1, 1],\n",
    "  [2, 2, 2]\n",
    "]) # False"
   ]
  },
  {
   "cell_type": "markdown",
   "id": "hybrid-sierra",
   "metadata": {},
   "source": [
    "# 20- array123\n",
    "Given an array of ints, return True if the sequence of numbers 1, 2, 3 appears in the array somewhere.\n",
    "\n",
    "<code style=\"background-color:#f2f2f2;\">array123([1, 1, 2, 3, 1]) → True\n",
    "array123([1, 1, 2, 4, 1]) → False\n",
    "array123([1, 1, 2, 1, 2, 3]) → True</code>"
   ]
  }
 ],
 "metadata": {
  "kernelspec": {
   "display_name": "Python 3",
   "language": "python",
   "name": "python3"
  },
  "language_info": {
   "codemirror_mode": {
    "name": "ipython",
    "version": 3
   },
   "file_extension": ".py",
   "mimetype": "text/x-python",
   "name": "python",
   "nbconvert_exporter": "python",
   "pygments_lexer": "ipython3",
   "version": "3.7.6"
  }
 },
 "nbformat": 4,
 "nbformat_minor": 5
}
