{
 "cells": [
  {
   "cell_type": "markdown",
   "id": "outdoor-prison",
   "metadata": {},
   "source": [
    "## 1- Rock Paper Scissor\n",
    "_Two-Player_\n",
    "\n",
    "<code style=\"background-color:#f2f2f2;\">Player1, Do you want to choose Rock [r], Paper [p] or Scissor [s]?r\n",
    "Player1 chooses r \n",
    "\n",
    "Player2, Do you want to choose Rock [r], Paper [p] or Scissor [s]?p\n",
    "Player2 chooses p</code>\n",
    "\n",
    "<code style=\"background-color:#f2f2f2;\">Player2 win!</code>"
   ]
  },
  {
   "cell_type": "code",
   "execution_count": 5,
   "id": "exempt-separation",
   "metadata": {},
   "outputs": [],
   "source": [
    "def rock_paper_scissor2():\n",
    "    '''Simple Two-Player Rock-Paper-Scissor game\n",
    "\n",
    "    Remember the rules:\n",
    "\n",
    "    1. Rock beats scissors\n",
    "    2. Scissors beats paper\n",
    "    3. Paper beats rock'''\n",
    "\n",
    "    player1 = input('Player1, Do you want to choose Rock [r], Paper [p] or Scissor [s]?')\n",
    "    print('Player1 chooses {}'.format(player1), '\\n')\n",
    "\n",
    "    player2 = input('Player2, Do you want to choose Rock [r], Paper [p] or Scissor [s]?')\n",
    "    print('Player2 chooses {}'.format(player2), '\\n')\n",
    "\n",
    "    if player1 == player2:\n",
    "        print('Tie!')\n",
    "\n",
    "    elif player1 == 'r' and player2 == 'p' or \\\n",
    "            player1 == 's' and player2 == 'r' or \\\n",
    "            player1 == 'p' and player2 == 's':\n",
    "        print('Player2 win!')\n",
    "    else:\n",
    "        print('Player1 win!')"
   ]
  },
  {
   "cell_type": "code",
   "execution_count": 6,
   "id": "satisfactory-amount",
   "metadata": {},
   "outputs": [
    {
     "name": "stdout",
     "output_type": "stream",
     "text": [
      "Player1, Do you want to choose Rock [r], Paper [p] or Scissor [s]?s\n",
      "Player1 chooses s \n",
      "\n",
      "Player2, Do you want to choose Rock [r], Paper [p] or Scissor [s]?r\n",
      "Player2 chooses r \n",
      "\n",
      "Player2 win!\n"
     ]
    }
   ],
   "source": [
    "rock_paper_scissor2()"
   ]
  },
  {
   "cell_type": "markdown",
   "id": "banner-death",
   "metadata": {},
   "source": [
    "#### Taking input in Python\n",
    "Developers often have a need to interact with users, either to get data or to provide some sort of result. \n",
    "\n",
    "Python provides us with the <code style=\"background-color:powderblue;\">input</code> functions to <code style=\"background-color:#d9ffe8;\">read</code> the input <code style=\"background-color:#d9ffe8;\">from the keyboard</code>.\n",
    "\n",
    "This function first takes the input from the user as <code style=\"background-color:powderblue;\">str</code>."
   ]
  },
  {
   "cell_type": "code",
   "execution_count": 7,
   "id": "divine-courage",
   "metadata": {},
   "outputs": [
    {
     "name": "stdout",
     "output_type": "stream",
     "text": [
      "2\n",
      "User input: 2  -  <class 'str'>\n"
     ]
    }
   ],
   "source": [
    "user_input = input()\n",
    "print('User input:', user_input, ' - ', type(user_input))"
   ]
  },
  {
   "cell_type": "markdown",
   "id": "elect-gothic",
   "metadata": {},
   "source": [
    "## 2- Rock Paper Scissor\n",
    "_One-Player_\n",
    "\n",
    "<code style=\"background-color:#f2f2f2;\">- Do you want to choose Rock [r], Paper [p] or Scissor [s]?r</code>\n",
    "\n",
    "<code style=\"background-color:#f2f2f2;\">- CPU chooses s</code>\n",
    "\n",
    "<code style=\"background-color:#f2f2f2;\">     Player win</code>\n",
    "\n",
    "<code style=\"background-color:#f2f2f2;\">Press Enter</code>\n",
    "\n",
    "<code style=\"background-color:#f2f2f2;\">-------</code>\n",
    "\n",
    "<code style=\"background-color:#f2f2f2;\">[...]</code>\n",
    "\n",
    "<code style=\"background-color:#f2f2f2;\">The winner is Player</code>"
   ]
  },
  {
   "cell_type": "markdown",
   "id": "quality-feeding",
   "metadata": {},
   "source": [
    "The <code style=\"background-color:powderblue;\">random</code> module is a built-in module to generate the pseudo-random variables. It can be used perform some action randomly such as to get a random number, selecting a random elements from a list, shuffle elements randomly, etc."
   ]
  },
  {
   "cell_type": "code",
   "execution_count": 13,
   "id": "leading-greek",
   "metadata": {},
   "outputs": [],
   "source": [
    "import random"
   ]
  },
  {
   "cell_type": "code",
   "execution_count": 14,
   "id": "pediatric-disco",
   "metadata": {},
   "outputs": [
    {
     "name": "stdout",
     "output_type": "stream",
     "text": [
      "Help on method shuffle in module random:\n",
      "\n",
      "shuffle(x, random=None) method of random.Random instance\n",
      "    Shuffle list x in place, and return None.\n",
      "    \n",
      "    Optional argument random is a 0-argument function returning a\n",
      "    random float in [0.0, 1.0); if it is the default None, the\n",
      "    standard random.random will be used.\n",
      "\n"
     ]
    }
   ],
   "source": [
    "help(random.shuffle)"
   ]
  },
  {
   "cell_type": "code",
   "execution_count": 15,
   "id": "quantitative-national",
   "metadata": {},
   "outputs": [],
   "source": [
    "l = [1, 2, 3, 4, 5]"
   ]
  },
  {
   "cell_type": "code",
   "execution_count": 16,
   "id": "patent-surgeon",
   "metadata": {},
   "outputs": [
    {
     "data": {
      "text/plain": [
       "[1, 2, 3, 4, 5]"
      ]
     },
     "execution_count": 16,
     "metadata": {},
     "output_type": "execute_result"
    }
   ],
   "source": [
    "l"
   ]
  },
  {
   "cell_type": "code",
   "execution_count": 17,
   "id": "mental-alexander",
   "metadata": {},
   "outputs": [],
   "source": [
    "random.shuffle(l)"
   ]
  },
  {
   "cell_type": "code",
   "execution_count": 18,
   "id": "certified-secretariat",
   "metadata": {},
   "outputs": [
    {
     "data": {
      "text/plain": [
       "[3, 4, 1, 2, 5]"
      ]
     },
     "execution_count": 18,
     "metadata": {},
     "output_type": "execute_result"
    }
   ],
   "source": [
    "l"
   ]
  },
  {
   "cell_type": "code",
   "execution_count": 19,
   "id": "simple-addition",
   "metadata": {},
   "outputs": [],
   "source": [
    "from IPython.display import clear_output"
   ]
  },
  {
   "cell_type": "code",
   "execution_count": 20,
   "id": "running-republican",
   "metadata": {},
   "outputs": [],
   "source": [
    "def rock_paper_scissor(best_of_n=3):\n",
    "    '''One-player Rock-Paper-Scissors game\n",
    "\n",
    "    Remember the rules:\n",
    "\n",
    "    1. Rock beats scissors\n",
    "    2. Scissors beats paper\n",
    "    3. Paper beats rock\n",
    "\n",
    "    Args:\n",
    "        best_of_n(int): a odd number. The winner of a series of games, sets, etc. will be the one that wins\n",
    "                        the majority of the odd number.\n",
    "    '''\n",
    "\n",
    "    items = ['r', 'p', 's']\n",
    "    cpu_win = 0\n",
    "\n",
    "    for play in range(best_of_n):\n",
    "    \n",
    "        loop = True\n",
    "\n",
    "        while loop:\n",
    "            clear_output()\n",
    "            \n",
    "            player = input('- Do you want to choose Rock [r], Paper [p] or Scissor [s]?')\n",
    "            \n",
    "            random.shuffle(items)\n",
    "            cpu = items[0]\n",
    "            print('- CPU chooses', cpu, '\\n')\n",
    "            \n",
    "            if player == cpu:\n",
    "                print(' ' * 5 + 'Tie!\\n')\n",
    "                input('Press Enter')\n",
    "                continue\n",
    "\n",
    "            elif player == 'r' and cpu == 'p':\n",
    "                cpu_win += 1\n",
    "                print(' ' * 5 + 'CPU win\\n')\n",
    "            elif player == 's' and cpu == 'r':\n",
    "                cpu_win += 1\n",
    "                print(' ' * 5 + 'CPU win\\n')\n",
    "            elif player == 'p' and cpu == 's':\n",
    "                cpu_win += 1\n",
    "                print(' ' * 5 + 'CPU win\\n')\n",
    "            else:\n",
    "                print(' ' * 5 + 'Player win\\n')\n",
    "\n",
    "            loop = False\n",
    "            input('Press Enter')\n",
    "        print('-------')\n",
    "\n",
    "    if cpu_win > best_of_n // 2:\n",
    "        print('The winner is CPU')\n",
    "    else:\n",
    "        print('The winner is Player')\n",
    "    \n",
    "    print('CPU:', cpu_win, '- Player:', best_of_n-cpu_win)"
   ]
  },
  {
   "cell_type": "code",
   "execution_count": 21,
   "id": "established-response",
   "metadata": {},
   "outputs": [
    {
     "name": "stdout",
     "output_type": "stream",
     "text": [
      "- Do you want to choose Rock [r], Paper [p] or Scissor [s]?p\n",
      "- CPU chooses s \n",
      "\n",
      "     CPU win\n",
      "\n",
      "Press Enter\n",
      "-------\n",
      "The winner is CPU\n",
      "CPU: 2 - Player: 1\n"
     ]
    }
   ],
   "source": [
    "rock_paper_scissor()"
   ]
  },
  {
   "cell_type": "markdown",
   "id": "operational-there",
   "metadata": {},
   "source": [
    "## 3- Text Analysis - Count Frequencies"
   ]
  },
  {
   "cell_type": "code",
   "execution_count": 33,
   "id": "distinguished-teens",
   "metadata": {},
   "outputs": [],
   "source": [
    "data = [\"C:/Users/s-guest-00-pc/PycharmProjects/intro2py/dataset/lyrics/disney.txt\",\n",
    "        \"C:/Users/s-guest-00-pc/PycharmProjects/intro2py/dataset/lyrics/eminem.txt\",\n",
    "        \"C:/Users/s-guest-00-pc/PycharmProjects/intro2py/dataset/lyrics/bruno-mars.txt\"]"
   ]
  },
  {
   "cell_type": "code",
   "execution_count": 24,
   "id": "alleged-homework",
   "metadata": {},
   "outputs": [],
   "source": [
    "with open(data[0], mode='r', encoding='utf-8') as f:\n",
    "    text = f.read()"
   ]
  },
  {
   "cell_type": "code",
   "execution_count": 25,
   "id": "binary-cheat",
   "metadata": {},
   "outputs": [
    {
     "data": {
      "text/plain": [
       "'When somebody loved me'"
      ]
     },
     "execution_count": 25,
     "metadata": {},
     "output_type": "execute_result"
    }
   ],
   "source": [
    "text[:22]"
   ]
  },
  {
   "cell_type": "code",
   "execution_count": 26,
   "id": "million-coral",
   "metadata": {},
   "outputs": [
    {
     "data": {
      "text/plain": [
       "['When', 'somebody', 'loved', 'me']"
      ]
     },
     "execution_count": 26,
     "metadata": {},
     "output_type": "execute_result"
    }
   ],
   "source": [
    "text[:22].split()"
   ]
  },
  {
   "cell_type": "code",
   "execution_count": 27,
   "id": "settled-tumor",
   "metadata": {},
   "outputs": [],
   "source": [
    "def occurences(text):\n",
    "    words = text.split()\n",
    "    \n",
    "    freq = {word: text.count(word) for word in words}\n",
    "    \n",
    "    freq = dict(sorted(freq.items(), key=lambda x:x[1], reverse=True))\n",
    "    \n",
    "    return freq"
   ]
  },
  {
   "cell_type": "code",
   "execution_count": 28,
   "id": "dangerous-wales",
   "metadata": {},
   "outputs": [],
   "source": [
    "def analysis():\n",
    "    result = dict()\n",
    "    \n",
    "    for path in data:\n",
    "        with open(path, mode='r', encoding='utf-8') as f:\n",
    "            text = f.read()\n",
    "        \n",
    "        result[path] = occurences(text)\n",
    "    \n",
    "    return result"
   ]
  },
  {
   "cell_type": "code",
   "execution_count": 29,
   "id": "fantastic-subscription",
   "metadata": {},
   "outputs": [],
   "source": [
    "result = analysis()"
   ]
  },
  {
   "cell_type": "code",
   "execution_count": 31,
   "id": "lesser-transcription",
   "metadata": {},
   "outputs": [],
   "source": [
    "disney = result[data[0]]\n",
    "eminem = result[data[1]]\n",
    "bruno = result[data[2]]"
   ]
  },
  {
   "cell_type": "code",
   "execution_count": 32,
   "id": "smooth-cuisine",
   "metadata": {},
   "outputs": [],
   "source": [
    "import matplotlib.pyplot as plt\n",
    "import numpy as np\n",
    "\n",
    "def plot_words(words):\n",
    "    x = np.arange(len(words))\n",
    "\n",
    "    eminem_ = [eminem[word] for word in words]\n",
    "    disney_ = [disney[word] if word in disney else 0 for word in words]\n",
    "    bruno_ = [bruno[word] for word in words]\n",
    "\n",
    "    plt.figure(figsize=(10, 10))\n",
    "    ax = plt.subplot(1,1,1)\n",
    "    ax.bar(x-0.2, eminem_, width=0.2, color='b', align='center', label='Eminem')\n",
    "    ax.bar(x, disney_, width=0.2, color='g', align='center', label='Disney')\n",
    "    ax.bar(x+0.2, bruno_, width=0.2, color='r', align='center', label='Bruno mars')\n",
    "    ax.set_xticks(x)\n",
    "    ax.set_xticklabels(words)\n",
    "    plt.legend()\n",
    "\n",
    "    plt.show()"
   ]
  },
  {
   "cell_type": "code",
   "execution_count": 34,
   "id": "fluid-hudson",
   "metadata": {},
   "outputs": [
    {
     "data": {
      "image/png": "[encoded data removed]",
      "text/plain": [
       "<Figure size 720x720 with 1 Axes>"
      ]
     },
     "metadata": {
      "needs_background": "light"
     },
     "output_type": "display_data"
    }
   ],
   "source": [
    "plot_words(['love', 'fuck', 'kiss'])"
   ]
  },
  {
   "cell_type": "markdown",
   "id": "blank-infection",
   "metadata": {},
   "source": [
    "## 4- Cheese\n",
    "Simple analysis of a dataset containinig variety of cheese production information."
   ]
  },
  {
   "cell_type": "markdown",
   "id": "insured-forth",
   "metadata": {},
   "source": [
    "<table>\n",
    "<thead>\n",
    "<tr>\n",
    "<th align=\"left\">variable</th>\n",
    "<th align=\"left\">class</th>\n",
    "<th align=\"left\">description</th>\n",
    "</tr>\n",
    "</thead>\n",
    "<tbody>\n",
    "<tr>\n",
    "<td align=\"left\">Year</td>\n",
    "<td align=\"left\">date</td>\n",
    "<td align=\"left\">Year</td>\n",
    "</tr>\n",
    "<tr>\n",
    "<td align=\"left\">Cheddar</td>\n",
    "<td align=\"left\">double</td>\n",
    "<td align=\"left\">Cheddar consumption in lbs per person</td>\n",
    "</tr>\n",
    "<tr>\n",
    "<td align=\"left\">American Other</td>\n",
    "<td align=\"left\">double</td>\n",
    "<td align=\"left\">American Other consumption in lbs per person</td>\n",
    "</tr>\n",
    "<tr>\n",
    "<td align=\"left\">Mozzarella</td>\n",
    "<td align=\"left\">double</td>\n",
    "<td align=\"left\">Mozzarella consumption in lbs per person</td>\n",
    "</tr>\n",
    "<tr>\n",
    "<td align=\"left\">Italian other</td>\n",
    "<td align=\"left\">double</td>\n",
    "<td align=\"left\">Italian other consumption in lbs per person</td>\n",
    "</tr>\n",
    "<tr>\n",
    "<td align=\"left\">Swiss</td>\n",
    "<td align=\"left\">double</td>\n",
    "<td align=\"left\">Swiss consumption in lbs per person</td>\n",
    "</tr>\n",
    "<tr>\n",
    "<td align=\"left\">Brick</td>\n",
    "<td align=\"left\">double</td>\n",
    "<td align=\"left\">Brick consumption in lbs per person</td>\n",
    "</tr>\n",
    "<tr>\n",
    "<td align=\"left\">Muenster</td>\n",
    "<td align=\"left\">double</td>\n",
    "<td align=\"left\">Muenster consumption in lbs per person</td>\n",
    "</tr>\n",
    "<tr>\n",
    "<td align=\"left\">Cream and Neufchatel</td>\n",
    "<td align=\"left\">double</td>\n",
    "<td align=\"left\">Cream and Neufchatel consumption in lbs per person</td>\n",
    "</tr>\n",
    "<tr>\n",
    "<td align=\"left\">Blue</td>\n",
    "<td align=\"left\">double</td>\n",
    "<td align=\"left\">Blue consumption in lbs per person</td>\n",
    "</tr>\n",
    "<tr>\n",
    "<td align=\"left\">Other Dairy Cheese</td>\n",
    "<td align=\"left\">double</td>\n",
    "<td align=\"left\">Other Dairy Cheese consumption in lbs per person</td>\n",
    "</tr>\n",
    "<tr>\n",
    "<td align=\"left\">Processed Cheese</td>\n",
    "<td align=\"left\">double</td>\n",
    "<td align=\"left\">Processed Cheese consumption in lbs per person</td>\n",
    "</tr>\n",
    "<tr>\n",
    "<td align=\"left\">Foods and spreads</td>\n",
    "<td align=\"left\">double</td>\n",
    "<td align=\"left\">Foods and spreads consumption in lbs per person</td>\n",
    "</tr>\n",
    "<tr>\n",
    "<td align=\"left\">Total American Chese</td>\n",
    "<td align=\"left\">double</td>\n",
    "<td align=\"left\">Total American Chese consumption in lbs per person</td>\n",
    "</tr>\n",
    "<tr>\n",
    "<td align=\"left\">Total Italian Cheese</td>\n",
    "<td align=\"left\">double</td>\n",
    "<td align=\"left\">Total Italian Cheese consumption in lbs per person</td>\n",
    "</tr>\n",
    "<tr>\n",
    "<td align=\"left\">Total Natural Cheese</td>\n",
    "<td align=\"left\">double</td>\n",
    "<td align=\"left\">Total Natural Cheese consumption in lbs per person</td>\n",
    "</tr>\n",
    "<tr>\n",
    "<td align=\"left\">Total Processed Cheese Products</td>\n",
    "<td align=\"left\">double</td>\n",
    "<td align=\"left\">Total Processed Cheese Products consumption in lbs per person</td>\n",
    "</tr>\n",
    "</tbody>\n",
    "</table>"
   ]
  },
  {
   "cell_type": "markdown",
   "id": "comparative-elimination",
   "metadata": {},
   "source": [
    "#### defaultdict\n",
    "<code style=\"background-color:powderblue;\">defaultdict</code> type behaves almost exactly like a regular <code style=\"background-color:powderblue;\">dict</code>, but if you try to access or modify a missing key, then defaultdict will <code style=\"background-color:#d9ffe8;\">automatically create the key</code> and <code style=\"background-color:#d9ffe8;\">generate a default value for it</code>. This makes defaultdict a valuable option for handling missing keys in dictionaries."
   ]
  },
  {
   "cell_type": "code",
   "execution_count": 43,
   "id": "heavy-arabic",
   "metadata": {},
   "outputs": [],
   "source": [
    "from collections import defaultdict"
   ]
  },
  {
   "cell_type": "code",
   "execution_count": 44,
   "id": "cheap-capability",
   "metadata": {},
   "outputs": [],
   "source": [
    "mydict = dict()\n",
    "mydefaultdict = defaultdict(list)"
   ]
  },
  {
   "cell_type": "code",
   "execution_count": 45,
   "id": "grateful-recruitment",
   "metadata": {},
   "outputs": [
    {
     "ename": "KeyError",
     "evalue": "'test'",
     "output_type": "error",
     "traceback": [
      "\u001b[1;31m---------------------------------------------------------------------------\u001b[0m",
      "\u001b[1;31mKeyError\u001b[0m                                  Traceback (most recent call last)",
      "\u001b[1;32m<ipython-input-45-610a11eefac4>\u001b[0m in \u001b[0;36m<module>\u001b[1;34m\u001b[0m\n\u001b[1;32m----> 1\u001b[1;33m \u001b[0mmydict\u001b[0m\u001b[1;33m[\u001b[0m\u001b[1;34m'test'\u001b[0m\u001b[1;33m]\u001b[0m\u001b[1;33m\u001b[0m\u001b[1;33m\u001b[0m\u001b[0m\n\u001b[0m",
      "\u001b[1;31mKeyError\u001b[0m: 'test'"
     ]
    }
   ],
   "source": [
    "mydict['test']"
   ]
  },
  {
   "cell_type": "code",
   "execution_count": 46,
   "id": "artistic-conditions",
   "metadata": {},
   "outputs": [
    {
     "data": {
      "text/plain": [
       "[]"
      ]
     },
     "execution_count": 46,
     "metadata": {},
     "output_type": "execute_result"
    }
   ],
   "source": [
    "mydefaultdict['test']"
   ]
  },
  {
   "cell_type": "code",
   "execution_count": 47,
   "id": "federal-might",
   "metadata": {},
   "outputs": [
    {
     "ename": "KeyError",
     "evalue": "'test1'",
     "output_type": "error",
     "traceback": [
      "\u001b[1;31m---------------------------------------------------------------------------\u001b[0m",
      "\u001b[1;31mKeyError\u001b[0m                                  Traceback (most recent call last)",
      "\u001b[1;32m<ipython-input-47-7a5c14bb4b82>\u001b[0m in \u001b[0;36m<module>\u001b[1;34m\u001b[0m\n\u001b[1;32m----> 1\u001b[1;33m \u001b[0mmydict\u001b[0m\u001b[1;33m[\u001b[0m\u001b[1;34m'test1'\u001b[0m\u001b[1;33m]\u001b[0m\u001b[1;33m.\u001b[0m\u001b[0mappend\u001b[0m\u001b[1;33m(\u001b[0m\u001b[1;36m0\u001b[0m\u001b[1;33m)\u001b[0m\u001b[1;33m\u001b[0m\u001b[1;33m\u001b[0m\u001b[0m\n\u001b[0m",
      "\u001b[1;31mKeyError\u001b[0m: 'test1'"
     ]
    }
   ],
   "source": [
    "mydict['test1'].append(0)"
   ]
  },
  {
   "cell_type": "code",
   "execution_count": 48,
   "id": "statutory-minnesota",
   "metadata": {},
   "outputs": [],
   "source": [
    "mydefaultdict['test1'].append(0)"
   ]
  },
  {
   "cell_type": "code",
   "execution_count": 49,
   "id": "collaborative-juice",
   "metadata": {},
   "outputs": [
    {
     "data": {
      "text/plain": [
       "defaultdict(list, {'test': [], 'test1': [0]})"
      ]
     },
     "execution_count": 49,
     "metadata": {},
     "output_type": "execute_result"
    }
   ],
   "source": [
    "mydefaultdict"
   ]
  },
  {
   "cell_type": "code",
   "execution_count": 50,
   "id": "european-excuse",
   "metadata": {},
   "outputs": [
    {
     "data": {
      "text/plain": [
       "{}"
      ]
     },
     "execution_count": 50,
     "metadata": {},
     "output_type": "execute_result"
    }
   ],
   "source": [
    "mydefaultdict = defaultdict(dict)\n",
    "mydefaultdict['test']"
   ]
  },
  {
   "cell_type": "code",
   "execution_count": 51,
   "id": "joined-irish",
   "metadata": {},
   "outputs": [
    {
     "ename": "KeyError",
     "evalue": "'test-test'",
     "output_type": "error",
     "traceback": [
      "\u001b[1;31m---------------------------------------------------------------------------\u001b[0m",
      "\u001b[1;31mKeyError\u001b[0m                                  Traceback (most recent call last)",
      "\u001b[1;32m<ipython-input-51-3ed14f81bf10>\u001b[0m in \u001b[0;36m<module>\u001b[1;34m\u001b[0m\n\u001b[1;32m----> 1\u001b[1;33m \u001b[0mmydefaultdict\u001b[0m\u001b[1;33m[\u001b[0m\u001b[1;34m'test'\u001b[0m\u001b[1;33m]\u001b[0m\u001b[1;33m[\u001b[0m\u001b[1;34m'test-test'\u001b[0m\u001b[1;33m]\u001b[0m\u001b[1;33m\u001b[0m\u001b[1;33m\u001b[0m\u001b[0m\n\u001b[0m",
      "\u001b[1;31mKeyError\u001b[0m: 'test-test'"
     ]
    }
   ],
   "source": [
    "mydefaultdict['test']['test-test']"
   ]
  },
  {
   "cell_type": "code",
   "execution_count": 52,
   "id": "neutral-telling",
   "metadata": {},
   "outputs": [
    {
     "data": {
      "text/plain": [
       "{}"
      ]
     },
     "execution_count": 52,
     "metadata": {},
     "output_type": "execute_result"
    }
   ],
   "source": [
    "mydefaultdict = defaultdict(lambda:defaultdict(dict))\n",
    "mydefaultdict['test']['test-test']"
   ]
  },
  {
   "cell_type": "code",
   "execution_count": 53,
   "id": "working-observation",
   "metadata": {},
   "outputs": [
    {
     "data": {
      "text/plain": [
       "defaultdict(<function __main__.<lambda>()>,\n",
       "            {'test': defaultdict(dict, {'test-test': {}})})"
      ]
     },
     "execution_count": 53,
     "metadata": {},
     "output_type": "execute_result"
    }
   ],
   "source": [
    "mydefaultdict"
   ]
  },
  {
   "cell_type": "markdown",
   "id": "inner-making",
   "metadata": {},
   "source": [
    "#### Reading data"
   ]
  },
  {
   "cell_type": "code",
   "execution_count": 54,
   "id": "drawn-sydney",
   "metadata": {},
   "outputs": [],
   "source": [
    "data = list()"
   ]
  },
  {
   "cell_type": "code",
   "execution_count": 56,
   "id": "piano-monitor",
   "metadata": {},
   "outputs": [],
   "source": [
    "import csv\n",
    "\n",
    "with open('dataset/cheese.csv', mode='r') as f:\n",
    "    csv_reader = csv.reader(f, delimiter=',')\n",
    "        \n",
    "    columns = []\n",
    "    \n",
    "    for line_count, row in enumerate(csv_reader):\n",
    "        if line_count == 0:\n",
    "            columns = row\n",
    "        else:\n",
    "            data.append({column: row[i] for i, column in enumerate(columns)})"
   ]
  },
  {
   "cell_type": "code",
   "execution_count": 57,
   "id": "collect-ribbon",
   "metadata": {},
   "outputs": [
    {
     "data": {
      "text/plain": [
       "{'Year': '1970',\n",
       " 'Cheddar': '5.79',\n",
       " 'American Other': '1.2',\n",
       " 'Mozzarella': '1.19',\n",
       " 'Italian other': '0.87',\n",
       " 'Swiss': '0.88',\n",
       " 'Brick': '0.1',\n",
       " 'Muenster': '0.17',\n",
       " 'Cream and Neufchatel': '0.61',\n",
       " 'Blue': '0.15',\n",
       " 'Other Dairy Cheese': '0.41',\n",
       " 'Processed Cheese': '3.32',\n",
       " 'Foods and spreads': '2.2',\n",
       " 'Total American Chese': '7',\n",
       " 'Total Italian Cheese': '2.05',\n",
       " 'Total Natural Cheese': '11.37',\n",
       " 'Total Processed Cheese Products': '5.53'}"
      ]
     },
     "execution_count": 57,
     "metadata": {},
     "output_type": "execute_result"
    }
   ],
   "source": [
    "data[0]"
   ]
  },
  {
   "cell_type": "code",
   "execution_count": 60,
   "id": "sealed-marathon",
   "metadata": {},
   "outputs": [],
   "source": [
    "import math"
   ]
  },
  {
   "cell_type": "markdown",
   "id": "signal-marketing",
   "metadata": {},
   "source": [
    "$\\mu = \\frac{\\sum_i^N x_i}{N}$ $\\sigma = \\sqrt{\\frac{\\sum_i^N \\left ( x_i - \\mu  \\right)^2}{N}}$"
   ]
  },
  {
   "cell_type": "code",
   "execution_count": 61,
   "id": "closed-animal",
   "metadata": {},
   "outputs": [],
   "source": [
    "def min_(list_):\n",
    "    return min(list_)\n",
    "\n",
    "def max_(list_):\n",
    "    return max(list_)\n",
    "\n",
    "def median(list_):\n",
    "    list_.sort()\n",
    "\n",
    "    if len(list_) % 2 == 0:\n",
    "        index = len(list_) // 2 - 1\n",
    "        return (list_[index] + list_[index + 1]) / 2\n",
    "    else:\n",
    "        index = len(list_) // 2\n",
    "        return list_[index]\n",
    "\n",
    "def mean(list_):\n",
    "    return sum(list_) / len(list_)\n",
    "\n",
    "def std(list_):\n",
    "    mu = mean(list_)\n",
    "    N = len(list_)\n",
    "\n",
    "    return math.sqrt(sum([(x_i - mu) ** 2 for x_i in list_]) / N)"
   ]
  },
  {
   "cell_type": "code",
   "execution_count": 62,
   "id": "driving-personality",
   "metadata": {},
   "outputs": [],
   "source": [
    "def cheese_analysis(data):\n",
    "    analysis = defaultdict(lambda: defaultdict(list))\n",
    "    columns = list(data[0].keys())[1:]\n",
    "\n",
    "    # tot\n",
    "    for d in data:\n",
    "        for c in columns:\n",
    "            analysis['data'][c].append(float(d[c]))\n",
    "\n",
    "    # means\n",
    "    for c in columns:\n",
    "        analysis['means'][c] = mean(analysis['data'][c])\n",
    "\n",
    "    # std\n",
    "    for c in columns:\n",
    "        analysis['std'][c] = std(analysis['data'][c])\n",
    "\n",
    "    # min\n",
    "    for c in columns:\n",
    "        analysis['min'][c] = min_(analysis['data'][c])\n",
    "\n",
    "    # min\n",
    "    for c in columns:\n",
    "        analysis['max'][c] = max_(analysis['data'][c])\n",
    "\n",
    "    # median\n",
    "    for c in columns:\n",
    "        analysis['median'][c] = median(analysis['data'][c])\n",
    "\n",
    "    return analysis"
   ]
  },
  {
   "cell_type": "code",
   "execution_count": 64,
   "id": "controlling-yukon",
   "metadata": {},
   "outputs": [
    {
     "data": {
      "text/plain": [
       "(50.0, 28.577380332470412)"
      ]
     },
     "execution_count": 64,
     "metadata": {},
     "output_type": "execute_result"
    }
   ],
   "source": [
    "mean(range(1,100)), std(range(1,100))"
   ]
  },
  {
   "cell_type": "code",
   "execution_count": 65,
   "id": "sunset-bowling",
   "metadata": {},
   "outputs": [],
   "source": [
    "analysis = cheese_analysis(data)"
   ]
  },
  {
   "cell_type": "code",
   "execution_count": 66,
   "id": "adult-ranch",
   "metadata": {},
   "outputs": [
    {
     "data": {
      "text/plain": [
       "dict_keys(['data', 'means', 'std', 'min', 'max', 'median'])"
      ]
     },
     "execution_count": 66,
     "metadata": {},
     "output_type": "execute_result"
    }
   ],
   "source": [
    "analysis.keys()"
   ]
  },
  {
   "cell_type": "code",
   "execution_count": 67,
   "id": "sharing-remark",
   "metadata": {},
   "outputs": [
    {
     "data": {
      "text/plain": [
       "dict_keys(['Cheddar', 'American Other', 'Mozzarella', 'Italian other', 'Swiss', 'Brick', 'Muenster', 'Cream and Neufchatel', 'Blue', 'Other Dairy Cheese', 'Processed Cheese', 'Foods and spreads', 'Total American Chese', 'Total Italian Cheese', 'Total Natural Cheese', 'Total Processed Cheese Products'])"
      ]
     },
     "execution_count": 67,
     "metadata": {},
     "output_type": "execute_result"
    }
   ],
   "source": [
    "analysis['means'].keys()"
   ]
  },
  {
   "cell_type": "code",
   "execution_count": 68,
   "id": "spatial-century",
   "metadata": {},
   "outputs": [
    {
     "data": {
      "text/plain": [
       "2.1529166666666666"
      ]
     },
     "execution_count": 68,
     "metadata": {},
     "output_type": "execute_result"
    }
   ],
   "source": [
    "analysis['means']['Italian other']"
   ]
  },
  {
   "cell_type": "code",
   "execution_count": 69,
   "id": "protected-pricing",
   "metadata": {},
   "outputs": [],
   "source": [
    "analysis_boxplot = {cheese: values for cheese, values in analysis['data'].items() if 'Total' not in cheese}"
   ]
  },
  {
   "cell_type": "markdown",
   "id": "hawaiian-transportation",
   "metadata": {},
   "source": [
    "<img src=\"https://i1.wp.com/flowingdata.com/wp-content/uploads/2008/02/box-plot-explained.gif\" \n",
    "     style=\"float: left;\" \n",
    "     width=\"170\">"
   ]
  },
  {
   "cell_type": "code",
   "execution_count": 71,
   "id": "quick-helen",
   "metadata": {},
   "outputs": [
    {
     "data": {
      "image/png": "[encoded data removed]",
      "text/plain": [
       "<Figure size 432x288 with 1 Axes>"
      ]
     },
     "metadata": {
      "needs_background": "light"
     },
     "output_type": "display_data"
    }
   ],
   "source": [
    "from matplotlib import pyplot as plt\n",
    "\n",
    "labels, values = analysis_boxplot.keys(), analysis_boxplot.values()\n",
    "\n",
    "plt.boxplot(values, vert=True)\n",
    "plt.xticks(range(1, len(labels) + 1), labels, rotation=90)\n",
    "plt.show()"
   ]
  },
  {
   "cell_type": "code",
   "execution_count": 72,
   "id": "democratic-certification",
   "metadata": {},
   "outputs": [],
   "source": [
    "year = [d['Year'] for d in data]\n",
    "cheese = [d['Cheddar'] for d in data]"
   ]
  },
  {
   "cell_type": "code",
   "execution_count": 73,
   "id": "shaped-hardwood",
   "metadata": {},
   "outputs": [
    {
     "data": {
      "image/png": "[encoded data removed]",
      "text/plain": [
       "<Figure size 720x576 with 1 Axes>"
      ]
     },
     "metadata": {
      "needs_background": "light"
     },
     "output_type": "display_data"
    }
   ],
   "source": [
    "plt.figure(figsize=(10, 8))\n",
    "plt.xticks(rotation=90)\n",
    "plt.bar(year, cheese)\n",
    "plt.show()"
   ]
  },
  {
   "cell_type": "code",
   "execution_count": 74,
   "id": "sound-istanbul",
   "metadata": {},
   "outputs": [
    {
     "data": {
      "text/plain": [
       "<matplotlib.legend.Legend at 0x26e2d02ea08>"
      ]
     },
     "execution_count": 74,
     "metadata": {},
     "output_type": "execute_result"
    },
    {
     "data": {
      "image/png": "[encoded data removed]",
      "text/plain": [
       "<Figure size 720x576 with 1 Axes>"
      ]
     },
     "metadata": {
      "needs_background": "light"
     },
     "output_type": "display_data"
    }
   ],
   "source": [
    "plt.figure(figsize=(10, 8))\n",
    "plt.xticks(rotation=90)\n",
    "plt.plot(year, [d['Cheddar'] for d in data], marker='+', color='olive', linewidth=2, label='Cheddar')\n",
    "plt.legend()"
   ]
  }
 ],
 "metadata": {
  "kernelspec": {
   "display_name": "Python 3",
   "language": "python",
   "name": "python3"
  },
  "language_info": {
   "codemirror_mode": {
    "name": "ipython",
    "version": 3
   },
   "file_extension": ".py",
   "mimetype": "text/x-python",
   "name": "python",
   "nbconvert_exporter": "python",
   "pygments_lexer": "ipython3",
   "version": "3.7.6"
  }
 },
 "nbformat": 4,
 "nbformat_minor": 5
}
