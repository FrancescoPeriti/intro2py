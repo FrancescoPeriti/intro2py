{
 "cells": [
  {
   "cell_type": "markdown",
   "id": "overall-subcommittee",
   "metadata": {},
   "source": [
    "# Python: Overview of the Basic Concepts\n",
    "\n",
    "<img src=\"https://venturebeat.com/wp-content/uploads/2018/09/python3.jpg?fit=2017%2C1201&strip=all\" \n",
    "     style=\"float: left;\" \n",
    "     width=\"300\">\n",
    "The Python Tutorial: https://docs.python.org/3/tutorial/"
   ]
  },
  {
   "cell_type": "markdown",
   "id": "temporal-thompson",
   "metadata": {},
   "source": [
    "### Why Python is so popular?\n",
    "<ul>\n",
    "    <li>Easy to Learn and Use</li>\n",
    "    <li>Multiple Programming Paradigms</li>\n",
    "    <li>Compatible with Major Platforms and Systems</li>\n",
    "    <li>Hundreds of Python Libraries and Frameworks</li>\n",
    "    <li>Open-source</li>\n",
    "</ul>"
   ]
  },
  {
   "cell_type": "markdown",
   "id": "cloudy-functionality",
   "metadata": {},
   "source": [
    "<i>A python program can be:</i>\n",
    "<ul>\n",
    "    <li>edited in the python shell and executed step-by-step by the shell</li>\n",
    "    <li>edited and run through the interpreter</li>\n",
    "</ul>"
   ]
  },
  {
   "cell_type": "markdown",
   "id": "prompt-middle",
   "metadata": {},
   "source": [
    "### _pip_"
   ]
  },
  {
   "cell_type": "markdown",
   "id": "handed-turtle",
   "metadata": {},
   "source": [
    "<code style=\"background-color:#d9ffe8;\">pip</code> is the <code style=\"background-color:#d9ffe8;\">standard package manager</code> for Python. It allows you to install and manage additional packages that are not part of the Python standard library. "
   ]
  },
  {
   "cell_type": "code",
   "execution_count": null,
   "id": "short-cholesterol",
   "metadata": {},
   "outputs": [],
   "source": [
    "import sys\n",
    "\n",
    "!{sys.executable} -m pip install jupyter\n",
    "\n",
    "# from terminal: python -m pip install jupyter \n",
    "#                pip install jupyter"
   ]
  },
  {
   "cell_type": "code",
   "execution_count": null,
   "id": "communist-technician",
   "metadata": {},
   "outputs": [],
   "source": [
    "!{sys.executable} -m pip install jupyter --upgrade"
   ]
  },
  {
   "cell_type": "markdown",
   "id": "breathing-review",
   "metadata": {},
   "source": [
    "<i>The python shell can be used to get interactive help</i>"
   ]
  },
  {
   "cell_type": "code",
   "execution_count": null,
   "id": "sitting-photograph",
   "metadata": {},
   "outputs": [],
   "source": [
    "help()"
   ]
  },
  {
   "cell_type": "markdown",
   "id": "sunrise-china",
   "metadata": {},
   "source": [
    "## Variables\n",
    "<code style=\"background-color:#d9ffe8;\">Variables</code> are <code style=\"background-color:#d9ffe8;\">containers</code> for storing data values.\n",
    "\n",
    "A variable is created the moment you first assign a value to it."
   ]
  },
  {
   "cell_type": "code",
   "execution_count": 3,
   "id": "hundred-content",
   "metadata": {},
   "outputs": [],
   "source": [
    "x = 1"
   ]
  },
  {
   "cell_type": "code",
   "execution_count": 4,
   "id": "worth-grave",
   "metadata": {},
   "outputs": [
    {
     "data": {
      "text/plain": [
       "1"
      ]
     },
     "execution_count": 4,
     "metadata": {},
     "output_type": "execute_result"
    }
   ],
   "source": [
    "x"
   ]
  },
  {
   "cell_type": "markdown",
   "id": "running-liberty",
   "metadata": {},
   "source": [
    "## Primitive Datatypes\n",
    "<ul>\n",
    "    <li>Every value has a datatype, but you do not need to declare it</li>\n",
    "    <li>Based on each variable assignment, python figures out what type it is and keeps tracks of that internally</li>\n",
    "</ul>"
   ]
  },
  {
   "cell_type": "markdown",
   "id": "based-anderson",
   "metadata": {},
   "source": [
    "#### Boolean\n",
    "Python provides two constants:\n",
    "<ul>\n",
    "    <li><code style=\"background-color:powderblue;\">True</code></li>\n",
    "    <li><code style=\"background-color:powderblue;\">False</code></li>\n",
    "</ul>\n",
    "\n",
    "Operations on Booleans\n",
    "<table style=\"float: left;width:70%\">\n",
    "    <tr>\n",
    "        <th style=\"text-align: center; vertical-align: middle;\">logic operators</th>\n",
    "        <th style=\"text-align: center; vertical-align: middle;\">relational operators</th>\n",
    "    </tr>\n",
    "    <tr>\n",
    "        <td style=\"text-align: center; vertical-align: middle;\"><i>and, or, not</i></td>\n",
    "        <td style=\"text-align: center; vertical-align: middle;\"><i>==, !=, &lt;, &gt;, &lt;=, &gt;=</i></td>\n",
    "    </tr>\n",
    "    <tr>\n",
    "        <td style=\"text-align: center; vertical-align: middle;\">logical and, or and negation respectively</td>\n",
    "        <td style=\"text-align: center; vertical-align: middle;\">equal to, not equal to, less than, greater than, less than or equal to, greater than or equal to</td>\n",
    "    </tr>\n",
    "</table>"
   ]
  },
  {
   "cell_type": "code",
   "execution_count": 5,
   "id": "arbitrary-regression",
   "metadata": {},
   "outputs": [
    {
     "data": {
      "text/plain": [
       "True"
      ]
     },
     "execution_count": 5,
     "metadata": {},
     "output_type": "execute_result"
    }
   ],
   "source": [
    "True == 1"
   ]
  },
  {
   "cell_type": "code",
   "execution_count": 6,
   "id": "linear-james",
   "metadata": {},
   "outputs": [
    {
     "data": {
      "text/plain": [
       "True"
      ]
     },
     "execution_count": 6,
     "metadata": {},
     "output_type": "execute_result"
    }
   ],
   "source": [
    "False == 0"
   ]
  },
  {
   "cell_type": "markdown",
   "id": "driving-bonus",
   "metadata": {},
   "source": [
    "Note that python allows <code style=\"background-color:#d9ffe8;\">chains of comparisons</code>"
   ]
  },
  {
   "cell_type": "code",
   "execution_count": 8,
   "id": "heavy-ensemble",
   "metadata": {},
   "outputs": [],
   "source": [
    "x = 17"
   ]
  },
  {
   "cell_type": "code",
   "execution_count": 9,
   "id": "appreciated-devil",
   "metadata": {},
   "outputs": [
    {
     "data": {
      "text/plain": [
       "True"
      ]
     },
     "execution_count": 9,
     "metadata": {},
     "output_type": "execute_result"
    }
   ],
   "source": [
    "10 < x"
   ]
  },
  {
   "cell_type": "code",
   "execution_count": 10,
   "id": "parental-german",
   "metadata": {},
   "outputs": [
    {
     "data": {
      "text/plain": [
       "True"
      ]
     },
     "execution_count": 10,
     "metadata": {},
     "output_type": "execute_result"
    }
   ],
   "source": [
    "x < 20"
   ]
  },
  {
   "cell_type": "code",
   "execution_count": 11,
   "id": "fatty-class",
   "metadata": {},
   "outputs": [
    {
     "data": {
      "text/plain": [
       "True"
      ]
     },
     "execution_count": 11,
     "metadata": {},
     "output_type": "execute_result"
    }
   ],
   "source": [
    "x > 10 and x < 20"
   ]
  },
  {
   "cell_type": "code",
   "execution_count": 12,
   "id": "outside-clark",
   "metadata": {},
   "outputs": [
    {
     "data": {
      "text/plain": [
       "True"
      ]
     },
     "execution_count": 12,
     "metadata": {},
     "output_type": "execute_result"
    }
   ],
   "source": [
    "10 < x < 20"
   ]
  },
  {
   "cell_type": "markdown",
   "id": "anonymous-variance",
   "metadata": {},
   "source": [
    "#### Numbers\n",
    "Two kinds of numbers: <code style=\"background-color:#d9ffe8;\">integers</code> and <code style=\"background-color:#d9ffe8;\">floats</code>\n",
    "<ul>\n",
    "    <li>no class declaration to distinguish them</li>\n",
    "    <li>they can be distinguished by the presence/absence of the decimal point</li>\n",
    "</ul>"
   ]
  },
  {
   "cell_type": "code",
   "execution_count": 16,
   "id": "moral-allen",
   "metadata": {},
   "outputs": [
    {
     "data": {
      "text/plain": [
       "1"
      ]
     },
     "execution_count": 16,
     "metadata": {},
     "output_type": "execute_result"
    }
   ],
   "source": [
    "1"
   ]
  },
  {
   "cell_type": "code",
   "execution_count": 17,
   "id": "working-smell",
   "metadata": {},
   "outputs": [
    {
     "data": {
      "text/plain": [
       "1.0"
      ]
     },
     "execution_count": 17,
     "metadata": {},
     "output_type": "execute_result"
    }
   ],
   "source": [
    "1.0"
   ]
  },
  {
   "cell_type": "code",
   "execution_count": 18,
   "id": "elect-superintendent",
   "metadata": {},
   "outputs": [
    {
     "data": {
      "text/plain": [
       "True"
      ]
     },
     "execution_count": 18,
     "metadata": {},
     "output_type": "execute_result"
    }
   ],
   "source": [
    "1 == 1.0"
   ]
  },
  {
   "cell_type": "code",
   "execution_count": 13,
   "id": "urban-filter",
   "metadata": {},
   "outputs": [
    {
     "data": {
      "text/plain": [
       "int"
      ]
     },
     "execution_count": 13,
     "metadata": {},
     "output_type": "execute_result"
    }
   ],
   "source": [
    "type(1)"
   ]
  },
  {
   "cell_type": "code",
   "execution_count": 14,
   "id": "isolated-honduras",
   "metadata": {},
   "outputs": [
    {
     "data": {
      "text/plain": [
       "True"
      ]
     },
     "execution_count": 14,
     "metadata": {},
     "output_type": "execute_result"
    }
   ],
   "source": [
    "isinstance(1, int)"
   ]
  },
  {
   "cell_type": "code",
   "execution_count": 15,
   "id": "vertical-muscle",
   "metadata": {},
   "outputs": [
    {
     "data": {
      "text/plain": [
       "float"
      ]
     },
     "execution_count": 15,
     "metadata": {},
     "output_type": "execute_result"
    }
   ],
   "source": [
    "type(2.0)"
   ]
  },
  {
   "cell_type": "markdown",
   "id": "parallel-surrey",
   "metadata": {},
   "source": [
    "<ul>\n",
    "    <li><code style=\"background-color:powderblue;\">type()</code> function provides the type of any value or variable</li>\n",
    "    <li><code style=\"background-color:powderblue;\">isistance()</code> checks if a value or variable is of a given type</li>\n",
    "    <li>adding an <code style=\"background-color:powderblue;\">int</code> to an <code style=\"background-color:powderblue;\">int</code> yields another <code style=\"background-color:powderblue;\">int</code> but adding it to a <code style=\"background-color:powderblue;\">float</code> yields a <code style=\"background-color:powderblue;\">float</code></li>\n",
    "    <li><code style=\"background-color:powderblue;\">int()</code> function truncates a float to an integer</li>\n",
    "    <li><code style=\"background-color:powderblue;\">float()</code> function promotes an integer to float</li>\n",
    "    <li>integers can be arbitrarily large</li>\n",
    "    <li>float are accurate to 15 decimal places</li>\n",
    "</ul>"
   ]
  },
  {
   "cell_type": "code",
   "execution_count": null,
   "id": "spare-convention",
   "metadata": {},
   "outputs": [],
   "source": [
    "float(1), int(1.41)"
   ]
  },
  {
   "cell_type": "markdown",
   "id": "median-lover",
   "metadata": {},
   "source": [
    "Operations on Booleans\n",
    "<table style=\"float: left;width:70%\">\n",
    "    <tr>\n",
    "        <th style=\"text-align: center; vertical-align: middle;\">operators</th>\n",
    "    </tr>\n",
    "    <tr>\n",
    "        <td style=\"text-align: center; vertical-align: middle;\"><i>+, -</i></td>\n",
    "    </tr>\n",
    "    <tr>\n",
    "        <td style=\"text-align: center; vertical-align: middle;\">sum and subtraction operators</td>\n",
    "    </tr>\n",
    "    <tr>\n",
    "        <td style=\"text-align: center; vertical-align: middle;\"><i>*, **</i></td>\n",
    "    </tr>\n",
    "    <tr>\n",
    "        <td style=\"text-align: center; vertical-align: middle;\">product and power of operators</td>\n",
    "    </tr>\n",
    "    <tr>\n",
    "        <td style=\"text-align: center; vertical-align: middle;\"><i>/, //, %</i></td>\n",
    "    </tr>\n",
    "    <tr>\n",
    "        <td style=\"text-align: center; vertical-align: middle;\">floating point and integer division and remainder operators \n",
    "        respectively</td>\n",
    "    </tr>\n",
    "</table>"
   ]
  },
  {
   "cell_type": "code",
   "execution_count": 19,
   "id": "stainless-medicine",
   "metadata": {},
   "outputs": [
    {
     "name": "stdout",
     "output_type": "stream",
     "text": [
      "3 + 3 = 6\n",
      "3 * 3 = 9\n",
      "3** 3 = 27\n",
      "3 / 3 = 1.0\n",
      "3.5 / 2.5 = 1.4\n",
      "3.5 // 2.5 = 1.0\n",
      "15 % 4 = 3\n"
     ]
    }
   ],
   "source": [
    "print('3 + 3 =', 3+3)\n",
    "print('3 * 3 =', 3*3)\n",
    "print('3** 3 =', 3**3)\n",
    "print('3 / 3 =', 3/3)\n",
    "print('3.5 / 2.5 =', 3.5/2.5)\n",
    "print('3.5 // 2.5 =', 3.5//2.5)\n",
    "print('15 % 4 =', 15 % 4)"
   ]
  },
  {
   "cell_type": "code",
   "execution_count": 20,
   "id": "black-jaguar",
   "metadata": {},
   "outputs": [
    {
     "name": "stdout",
     "output_type": "stream",
     "text": [
      "1333333333333333333333333333333333333333333333333333333333333333333333333333333333333333333333333333333333333333333\n"
     ]
    }
   ],
   "source": [
    "print(222222222222222222222222222222222222222222222222222222222222222222222222222222222222222222222222222222222222222222 + \n",
    "     1111111111111111111111111111111111111111111111111111111111111111111111111111111111111111111111111111111111111111111)"
   ]
  },
  {
   "cell_type": "markdown",
   "id": "visible-adjustment",
   "metadata": {},
   "source": [
    "#### List\n",
    "A python <code style=\"background-color:powderblue;\">list</code> looks very closely to an array\n",
    "<ul>\n",
    "    <li>direct access to the members through <code style=\"background-color:powderblue;\">[ ]</code></li>\n",
    "    <li>negative numbers give access to the members backwards</li>\n",
    "    <li>the <code style=\"background-color:powderblue;\">list</code> is not fixed in size</li>\n",
    "    <li>the members are not homogeneous</li>\n",
    "</ul>"
   ]
  },
  {
   "cell_type": "code",
   "execution_count": null,
   "id": "adult-block",
   "metadata": {},
   "outputs": [],
   "source": [
    "a_list = ['Hello', 1, 2.0, True]"
   ]
  },
  {
   "cell_type": "code",
   "execution_count": null,
   "id": "immediate-defense",
   "metadata": {},
   "outputs": [],
   "source": [
    "type(a_list)"
   ]
  },
  {
   "cell_type": "code",
   "execution_count": null,
   "id": "smart-florence",
   "metadata": {},
   "outputs": [],
   "source": [
    "a_list[0]"
   ]
  },
  {
   "cell_type": "markdown",
   "id": "collectible-calendar",
   "metadata": {},
   "source": [
    "A <code style=\"background-color:#d9ffe8;\">slice</code> of a <code style=\"background-color:powderblue;\">list</code> can be yielded by the <code style=\"background-color:powderblue;\">[:]</code> operator and specyfying the position of the firt item you want in the slice and of the first you want to exclude"
   ]
  },
  {
   "cell_type": "code",
   "execution_count": null,
   "id": "composed-huntington",
   "metadata": {},
   "outputs": [],
   "source": [
    "a_list[1:3]"
   ]
  },
  {
   "cell_type": "markdown",
   "id": "derived-routine",
   "metadata": {},
   "source": [
    "Note that omitting one of the two indexes you get respectively the first and the last item in the list"
   ]
  },
  {
   "cell_type": "code",
   "execution_count": null,
   "id": "nuclear-consultation",
   "metadata": {},
   "outputs": [],
   "source": [
    "a_list[2:]"
   ]
  },
  {
   "cell_type": "code",
   "execution_count": null,
   "id": "impressed-chest",
   "metadata": {},
   "outputs": [],
   "source": [
    "help(list)"
   ]
  },
  {
   "cell_type": "code",
   "execution_count": null,
   "id": "thick-music",
   "metadata": {},
   "outputs": [],
   "source": [
    "a_list.append('Francesco')\n",
    "a_list.append('Francesco')\n",
    "a_list"
   ]
  },
  {
   "cell_type": "code",
   "execution_count": null,
   "id": "dynamic-silly",
   "metadata": {},
   "outputs": [],
   "source": [
    "a_list.remove('Francesco')"
   ]
  },
  {
   "cell_type": "code",
   "execution_count": null,
   "id": "surprised-medicaid",
   "metadata": {},
   "outputs": [],
   "source": [
    "del a_list[0]"
   ]
  },
  {
   "cell_type": "code",
   "execution_count": null,
   "id": "occupied-newton",
   "metadata": {},
   "outputs": [],
   "source": [
    "a_list.insert(2, 'test')\n",
    "print(a_list)"
   ]
  },
  {
   "cell_type": "code",
   "execution_count": null,
   "id": "applied-current",
   "metadata": {},
   "outputs": [],
   "source": [
    "a_list.insert(2, 2)\n",
    "a_list.insert(2, 2)\n",
    "a_list.insert(2, 2)\n",
    "a_list.insert(2, 2)\n",
    "a_list.insert(2, 2)\n",
    "\n",
    "print(a_list, '\\n', a_list.count(2))"
   ]
  },
  {
   "cell_type": "markdown",
   "id": "matched-domain",
   "metadata": {},
   "source": [
    "#### Tuples\n",
    "Tuples are <code style=\"background-color:#d9ffe8;\">immutable lists</code>.\n",
    "<ul>\n",
    "    <li>parenthesis instead of square brackets</li>\n",
    "    <li>no <code style=\"background-color:powderblue;\">append()</code>, <code style=\"background-color:powderblue;\">insert()</code>, <code style=\"background-color:powderblue;\">extend()</code>, <code style=\"background-color:powderblue;\">remove()</code>, and so on</li>\n",
    "    <li>can be used for multiple assignments and to return multiple values</li>\n",
    "    <li>tuples can be used as keys for dictionaries</li>\n",
    "</ul>"
   ]
  },
  {
   "cell_type": "code",
   "execution_count": null,
   "id": "loved-eugene",
   "metadata": {},
   "outputs": [],
   "source": [
    "tuple()"
   ]
  },
  {
   "cell_type": "code",
   "execution_count": null,
   "id": "incoming-clearance",
   "metadata": {},
   "outputs": [],
   "source": [
    "a, b = (1, 2)\n",
    "print(a, b)"
   ]
  },
  {
   "cell_type": "code",
   "execution_count": null,
   "id": "cardiovascular-creation",
   "metadata": {},
   "outputs": [],
   "source": [
    "a_tuple = (1,2, True, False, 'ciao', 2.0)"
   ]
  },
  {
   "cell_type": "code",
   "execution_count": null,
   "id": "incorrect-affiliate",
   "metadata": {},
   "outputs": [],
   "source": [
    "a_tuple[1]"
   ]
  },
  {
   "cell_type": "code",
   "execution_count": null,
   "id": "interstate-paraguay",
   "metadata": {},
   "outputs": [],
   "source": [
    "del a_tuple[0]"
   ]
  },
  {
   "cell_type": "markdown",
   "id": "outstanding-baseline",
   "metadata": {},
   "source": [
    "#### Set\n",
    "Sets are unordered \"Bags\" of <code style=\"background-color:#d9ffe8;\">unique values</code>.\n",
    "<ul>\n",
    "    <li>do not admit duplicates so to add a value twice has no effects</li>\n",
    "</ul>"
   ]
  },
  {
   "cell_type": "code",
   "execution_count": null,
   "id": "renewable-entrance",
   "metadata": {},
   "outputs": [],
   "source": [
    "a_set = {1,2}\n",
    "print(a_set)"
   ]
  },
  {
   "cell_type": "code",
   "execution_count": null,
   "id": "difficult-updating",
   "metadata": {},
   "outputs": [],
   "source": [
    "a_set.add(5)\n",
    "print(a_set)"
   ]
  },
  {
   "cell_type": "code",
   "execution_count": null,
   "id": "quiet-yield",
   "metadata": {},
   "outputs": [],
   "source": [
    "a_set.update({6,7,8})\n",
    "print(a_set)"
   ]
  },
  {
   "cell_type": "code",
   "execution_count": null,
   "id": "demanding-standard",
   "metadata": {},
   "outputs": [],
   "source": [
    "a_set.union({121,12})"
   ]
  },
  {
   "cell_type": "code",
   "execution_count": null,
   "id": "intermediate-access",
   "metadata": {},
   "outputs": [],
   "source": [
    "set(a_list)"
   ]
  },
  {
   "cell_type": "code",
   "execution_count": null,
   "id": "resistant-fifth",
   "metadata": {},
   "outputs": [],
   "source": [
    "a_set.remove(3)"
   ]
  },
  {
   "cell_type": "code",
   "execution_count": null,
   "id": "fallen-schedule",
   "metadata": {},
   "outputs": [],
   "source": [
    "a_set"
   ]
  },
  {
   "cell_type": "code",
   "execution_count": null,
   "id": "impressive-settle",
   "metadata": {},
   "outputs": [],
   "source": [
    "help(set)"
   ]
  },
  {
   "cell_type": "markdown",
   "id": "printable-selling",
   "metadata": {},
   "source": [
    "#### Dictionaries\n",
    "A dictionary is an unordered set of <code style=\"background-color:#d9ffe8;\">key-value pairs</code>:\n",
    "<ul>\n",
    "    <li>when you add a key to the dictionary you must also add a value for that key</li>\n",
    "    <li>a value for a key can be changed at any time</li>\n",
    "    <li>the syntax is similar to sets</li>\n",
    "    <li><code style=\"background-color:powderblue;\">{}</code> is the empty dictionary</li>\n",
    "    <li>Note that you cannot have more than one entry with the same key</li>\n",
    "</ul>"
   ]
  },
  {
   "cell_type": "code",
   "execution_count": null,
   "id": "embedded-sharing",
   "metadata": {},
   "outputs": [],
   "source": [
    "a_dict = dict()\n",
    "\n",
    "print(a_dict, set())"
   ]
  },
  {
   "cell_type": "code",
   "execution_count": null,
   "id": "suited-healthcare",
   "metadata": {},
   "outputs": [],
   "source": [
    "a_dict = {1:'a', 2:'b', 3:'c', 4:'d'}\n",
    "\n",
    "print(a_dict)"
   ]
  },
  {
   "cell_type": "code",
   "execution_count": null,
   "id": "emerging-plaintiff",
   "metadata": {},
   "outputs": [],
   "source": [
    "a_dict[1]"
   ]
  },
  {
   "cell_type": "code",
   "execution_count": null,
   "id": "satisfactory-guest",
   "metadata": {},
   "outputs": [],
   "source": [
    "a_dict.keys(), a_dict.values()"
   ]
  },
  {
   "cell_type": "code",
   "execution_count": null,
   "id": "objective-holiday",
   "metadata": {},
   "outputs": [],
   "source": [
    "del a_dict[2]\n",
    "\n",
    "print(a_dict)"
   ]
  },
  {
   "cell_type": "code",
   "execution_count": null,
   "id": "published-intellectual",
   "metadata": {},
   "outputs": [],
   "source": [
    "a_dict.get(3)"
   ]
  },
  {
   "cell_type": "code",
   "execution_count": null,
   "id": "confident-panama",
   "metadata": {},
   "outputs": [],
   "source": [
    "a_dict.get(2)"
   ]
  },
  {
   "cell_type": "code",
   "execution_count": null,
   "id": "decent-persian",
   "metadata": {},
   "outputs": [],
   "source": [
    "a_dict[2]"
   ]
  },
  {
   "cell_type": "code",
   "execution_count": null,
   "id": "specified-duncan",
   "metadata": {},
   "outputs": [],
   "source": [
    "list(a_dict)"
   ]
  },
  {
   "cell_type": "markdown",
   "id": "freelance-christian",
   "metadata": {},
   "source": [
    "#### Strings\n",
    "Python'strings are a <code style=\"background-color:#d9ffe8;\">sequence of unicode characters</code>. </br>\n",
    "Strings behave as lists: you can\n",
    "<ul>\n",
    "    <li>get the string length with the <code style=\"background-color:powderblue;\">len</code> function</li>\n",
    "    <li>concatenate a strings with the <code style=\"background-color:powderblue;\">+</code> operator</li>\n",
    "    <li>slicing works as well</li>\n",
    "</ul>"
   ]
  },
  {
   "cell_type": "code",
   "execution_count": null,
   "id": "sensitive-burke",
   "metadata": {},
   "outputs": [],
   "source": [
    "a_str = \"Nel mezzo del cammin di nostra vita mi ritrovai per una selva oscura, ché la diritta via era smarrita.\""
   ]
  },
  {
   "cell_type": "code",
   "execution_count": null,
   "id": "victorian-causing",
   "metadata": {},
   "outputs": [],
   "source": [
    "a_str[:20]"
   ]
  },
  {
   "cell_type": "code",
   "execution_count": null,
   "id": "expressed-satisfaction",
   "metadata": {},
   "outputs": [],
   "source": [
    "a_str[:20] + a_str[20:]"
   ]
  },
  {
   "cell_type": "code",
   "execution_count": null,
   "id": "accepted-transformation",
   "metadata": {},
   "outputs": [],
   "source": [
    "a_str+= '- Inferno'"
   ]
  },
  {
   "cell_type": "code",
   "execution_count": null,
   "id": "shared-conference",
   "metadata": {},
   "outputs": [],
   "source": [
    "a_str"
   ]
  },
  {
   "cell_type": "code",
   "execution_count": null,
   "id": "collaborative-kitchen",
   "metadata": {},
   "outputs": [],
   "source": [
    "help(str)"
   ]
  },
  {
   "cell_type": "code",
   "execution_count": null,
   "id": "square-better",
   "metadata": {},
   "outputs": [],
   "source": [
    "type('1')"
   ]
  },
  {
   "cell_type": "code",
   "execution_count": null,
   "id": "floating-payroll",
   "metadata": {},
   "outputs": [],
   "source": [
    "type(int('1'))"
   ]
  },
  {
   "cell_type": "code",
   "execution_count": null,
   "id": "favorite-darkness",
   "metadata": {},
   "outputs": [],
   "source": [
    "print(a_str.upper())\n",
    "print(a_str.lower())\n",
    "print(a_str.capitalize())"
   ]
  }
 ],
 "metadata": {
  "kernelspec": {
   "display_name": "Python 3",
   "language": "python",
   "name": "python3"
  },
  "language_info": {
   "codemirror_mode": {
    "name": "ipython",
    "version": 3
   },
   "file_extension": ".py",
   "mimetype": "text/x-python",
   "name": "python",
   "nbconvert_exporter": "python",
   "pygments_lexer": "ipython3",
   "version": "3.7.6"
  }
 },
 "nbformat": 4,
 "nbformat_minor": 5
}
